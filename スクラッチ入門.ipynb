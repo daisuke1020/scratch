{
 "cells": [
  {
   "cell_type": "markdown",
   "id": "c9951a26-1c40-4705-b7a8-74202bce0c77",
   "metadata": {},
   "source": [
    "# 【問題1】train_test_split のスクラッチ"
   ]
  },
  {
   "cell_type": "code",
   "execution_count": 1,
   "id": "652cb5eb-79dc-4471-b2d7-e5172e3f007f",
   "metadata": {},
   "outputs": [],
   "source": [
    "#モジュールをインポート\n",
    "import numpy as np\n",
    "import math\n",
    "import random\n",
    "from sklearn.linear_model import SGDClassifier\n",
    "from sklearn.preprocessing import StandardScaler\n",
    "from sklearn.pipeline import make_pipeline\n",
    "import warnings #ワーニング関連のモジュール？\n",
    "warnings.filterwarnings('ignore') #ワーニングが消える？"
   ]
  },
  {
   "cell_type": "code",
   "execution_count": 2,
   "id": "188a3dc7-e91d-44ac-bbb0-adb246f2bd07",
   "metadata": {},
   "outputs": [],
   "source": [
    "# scikit-learnの train_test_split をスクラッチしてみます\n",
    "\n",
    "def scratch_train_test_split(X, y, train_size=0.8):\n",
    "    \"\"\"検証データを分割する。\n",
    "    引数\n",
    "    ----------\n",
    "    X : ndarray\n",
    "      訓練データ (n_samples, n_features)\n",
    "    y : ndarray\n",
    "      正解値 (n_samples,)\n",
    "    train_size : float\n",
    "      何割をtrainとするか指定 (0 < train_size < 1)\n",
    "    \n",
    "    戻り値\n",
    "    -------\n",
    "    X_train : ndarray\n",
    "      訓練データ (n_samples, n_features)\n",
    "    X_test : ndarray\n",
    "      検証データ (n_samples, n_features)\n",
    "    y_train : ndarray\n",
    "      訓練データの正解値 (n_samples,)\n",
    "    y_test : ndarray\n",
    "      検証データの正解値 (n_samples,)\n",
    "    \"\"\"\n",
    "    # ここにコードを書く\n",
    "    \n",
    "    #配列の要素数を調べる\n",
    "    #要素数と同じ長さのリストを作成\n",
    "    #ランダムにリストの値を＊train_size分だけtrain（リスト）にしまう\n",
    "    #for文でXとyのインデックスと照らし合わせてX_trainとy_trainに抽出\n",
    "    #残りをX_testとy_testに代入\n",
    "    #train_size=0.7\n",
    "    #print(train_size)\n",
    "    #n = int(100)   \n",
    "    X = np.array(X)\n",
    "    y = np.array(y)\n",
    "    n = int(len(y))                                  #100と仮定した時\n",
    "    count = list(range(n))                           #0から99までの100のリストができる\n",
    "    train = random.sample(count,int(n*train_size))   #0.7と仮定すると70が入る、ランダムでtrainに70入る\n",
    "    text = list(set(count)-set(train))               #100から70をひいた30がリストに入る\n",
    "    #print(train[5])\n",
    "    X_train = []\n",
    "    y_train = []\n",
    "    for i in range(int(n*train_size)):    #ランダムで入っている数字をインデックスに当てながら、for文で\n",
    "        X_train.append(X[train[i]])       #X_trainとy_trainに加えていく\n",
    "        y_train.append(y[train[i]])\n",
    "    X_test = []\n",
    "    y_test = []\n",
    "    for j in range(int(n*(1-train_size)+1)):  #ランダムで入っている数字をインデックスに当てながら、for文で\n",
    "        X_test.append(X[text[j]])           #X_testとy_testに加えていく\n",
    "        y_test.append(y[text[j]])\n",
    "    \n",
    "    X_train = np.array(X_train)      #全ての配列を一律にnp配列に返還\n",
    "    y_train = np.array(y_train)\n",
    "    X_test = np.array(X_test)\n",
    "    y_test = np.array(y_test)\n",
    "    \n",
    "    pass\n",
    "    return X_train, X_test, y_train, y_test"
   ]
  },
  {
   "cell_type": "code",
   "execution_count": 3,
   "id": "2358c7df-2bd3-457b-8508-bfa30e36b6f6",
   "metadata": {},
   "outputs": [
    {
     "data": {
      "text/plain": [
       "'\\nプロトタイプ\\n'"
      ]
     },
     "execution_count": 3,
     "metadata": {},
     "output_type": "execute_result"
    }
   ],
   "source": [
    "'''\n",
    "プロトタイプ\n",
    "'''\n",
    "\n",
    "# train_size=0.7\n",
    "# print(train_size)\n",
    "# n = int(100)   \n",
    "# #n = int(len(y))                           #100と仮定\n",
    "# count = list(range(n))\n",
    "# print(count)\n",
    "# train = random.sample(count,int(n*train_size)) #0.7と仮定すると70が入る\n",
    "# print(train)\n",
    "# text = list(set(count)-set(train))\n",
    "# print(train[5])\n",
    "# print(n*train_size)\n",
    "# X_train = []\n",
    "# y_train = []\n",
    "# for i in range(int(n*train_size)):    #ランダムで入っている数字をインデックスに当てながら、for文で\n",
    "#     X_train.append(X[train[i]])       #X_trainとy_trainに加えていく\n",
    "#     y_train.append(y[train[i]])\n",
    "# X_test = []\n",
    "# y_test = []\n",
    "# for j in range(int(n*(1-train_size))):  #ランダムで入っている数字をインデックスに当てながら、for文で\n",
    "#     X_test.append(X[text[j]])           #X_testとy_testに加えていく\n",
    "#     y_test.append(y[text[j]])\n",
    "    \n",
    "# print(count)\n",
    "# print(type(count))\n",
    "#print(train)\n",
    "# print(len(train))\n",
    "#print(text)\n",
    "# print(X_train)\n",
    "# print(y_train)"
   ]
  },
  {
   "cell_type": "markdown",
   "id": "298a6fe9-60da-47ec-ae80-72ce21024f6e",
   "metadata": {},
   "source": [
    "# 【問題2】 分類問題を解くコードの作成"
   ]
  },
  {
   "cell_type": "markdown",
   "id": "ce478dba-16a9-423b-9b99-8023d9b4c4db",
   "metadata": {},
   "source": [
    " 3種類の手法で3種類のデータセットを学習・推定するコードを作成"
   ]
  },
  {
   "cell_type": "markdown",
   "id": "7e28cd0e-d9cf-48e5-953e-26781521e672",
   "metadata": {},
   "source": [
    "**ホールドアウト法で構わない**"
   ]
  },
  {
   "cell_type": "markdown",
   "id": "ccf4db5a-0b79-4e28-afc7-cd3f437cbb05",
   "metadata": {},
   "source": [
    "- irisデータセット\n",
    "    - ロジスティック回帰\n",
    "    - SVM\n",
    "    - 決定木\n",
    "- シンプルデータセット1\n",
    "    - ロジスティック回帰\n",
    "    - SVM\n",
    "    - 決定木\n",
    "- シンプルデータセット2\n",
    "    - ロジスティック回帰\n",
    "    - SVM\n",
    "    - 決定木"
   ]
  },
  {
   "cell_type": "markdown",
   "id": "469cdf75-1978-4f72-849a-18f5da5d5db2",
   "metadata": {},
   "source": [
    "## アヤメ"
   ]
  },
  {
   "cell_type": "code",
   "execution_count": 4,
   "id": "6fbf39fc-19b6-4b36-a9fa-e5536b9df7bc",
   "metadata": {},
   "outputs": [
    {
     "data": {
      "text/html": [
       "<div>\n",
       "<style scoped>\n",
       "    .dataframe tbody tr th:only-of-type {\n",
       "        vertical-align: middle;\n",
       "    }\n",
       "\n",
       "    .dataframe tbody tr th {\n",
       "        vertical-align: top;\n",
       "    }\n",
       "\n",
       "    .dataframe thead th {\n",
       "        text-align: right;\n",
       "    }\n",
       "</style>\n",
       "<table border=\"1\" class=\"dataframe\">\n",
       "  <thead>\n",
       "    <tr style=\"text-align: right;\">\n",
       "      <th></th>\n",
       "      <th>sepal_length</th>\n",
       "      <th>sepal_width</th>\n",
       "      <th>petal_length</th>\n",
       "      <th>petal_width</th>\n",
       "      <th>Species</th>\n",
       "    </tr>\n",
       "  </thead>\n",
       "  <tbody>\n",
       "    <tr>\n",
       "      <th>50</th>\n",
       "      <td>7.0</td>\n",
       "      <td>3.2</td>\n",
       "      <td>4.7</td>\n",
       "      <td>1.4</td>\n",
       "      <td>1</td>\n",
       "    </tr>\n",
       "    <tr>\n",
       "      <th>51</th>\n",
       "      <td>6.4</td>\n",
       "      <td>3.2</td>\n",
       "      <td>4.5</td>\n",
       "      <td>1.5</td>\n",
       "      <td>1</td>\n",
       "    </tr>\n",
       "    <tr>\n",
       "      <th>52</th>\n",
       "      <td>6.9</td>\n",
       "      <td>3.1</td>\n",
       "      <td>4.9</td>\n",
       "      <td>1.5</td>\n",
       "      <td>1</td>\n",
       "    </tr>\n",
       "    <tr>\n",
       "      <th>53</th>\n",
       "      <td>5.5</td>\n",
       "      <td>2.3</td>\n",
       "      <td>4.0</td>\n",
       "      <td>1.3</td>\n",
       "      <td>1</td>\n",
       "    </tr>\n",
       "    <tr>\n",
       "      <th>54</th>\n",
       "      <td>6.5</td>\n",
       "      <td>2.8</td>\n",
       "      <td>4.6</td>\n",
       "      <td>1.5</td>\n",
       "      <td>1</td>\n",
       "    </tr>\n",
       "    <tr>\n",
       "      <th>...</th>\n",
       "      <td>...</td>\n",
       "      <td>...</td>\n",
       "      <td>...</td>\n",
       "      <td>...</td>\n",
       "      <td>...</td>\n",
       "    </tr>\n",
       "    <tr>\n",
       "      <th>145</th>\n",
       "      <td>6.7</td>\n",
       "      <td>3.0</td>\n",
       "      <td>5.2</td>\n",
       "      <td>2.3</td>\n",
       "      <td>2</td>\n",
       "    </tr>\n",
       "    <tr>\n",
       "      <th>146</th>\n",
       "      <td>6.3</td>\n",
       "      <td>2.5</td>\n",
       "      <td>5.0</td>\n",
       "      <td>1.9</td>\n",
       "      <td>2</td>\n",
       "    </tr>\n",
       "    <tr>\n",
       "      <th>147</th>\n",
       "      <td>6.5</td>\n",
       "      <td>3.0</td>\n",
       "      <td>5.2</td>\n",
       "      <td>2.0</td>\n",
       "      <td>2</td>\n",
       "    </tr>\n",
       "    <tr>\n",
       "      <th>148</th>\n",
       "      <td>6.2</td>\n",
       "      <td>3.4</td>\n",
       "      <td>5.4</td>\n",
       "      <td>2.3</td>\n",
       "      <td>2</td>\n",
       "    </tr>\n",
       "    <tr>\n",
       "      <th>149</th>\n",
       "      <td>5.9</td>\n",
       "      <td>3.0</td>\n",
       "      <td>5.1</td>\n",
       "      <td>1.8</td>\n",
       "      <td>2</td>\n",
       "    </tr>\n",
       "  </tbody>\n",
       "</table>\n",
       "<p>100 rows × 5 columns</p>\n",
       "</div>"
      ],
      "text/plain": [
       "     sepal_length  sepal_width  petal_length  petal_width  Species\n",
       "50            7.0          3.2           4.7          1.4        1\n",
       "51            6.4          3.2           4.5          1.5        1\n",
       "52            6.9          3.1           4.9          1.5        1\n",
       "53            5.5          2.3           4.0          1.3        1\n",
       "54            6.5          2.8           4.6          1.5        1\n",
       "..            ...          ...           ...          ...      ...\n",
       "145           6.7          3.0           5.2          2.3        2\n",
       "146           6.3          2.5           5.0          1.9        2\n",
       "147           6.5          3.0           5.2          2.0        2\n",
       "148           6.2          3.4           5.4          2.3        2\n",
       "149           5.9          3.0           5.1          1.8        2\n",
       "\n",
       "[100 rows x 5 columns]"
      ]
     },
     "execution_count": 4,
     "metadata": {},
     "output_type": "execute_result"
    }
   ],
   "source": [
    "#アヤメのデータを取得\n",
    "from sklearn.datasets import load_iris\n",
    "import pandas as pd\n",
    "iris = load_iris()\n",
    "X = pd.DataFrame(iris.data,columns=[\"sepal_length\",\"sepal_width\",\"petal_length\",\"petal_width\"] )\n",
    "Y = pd.DataFrame(iris.target,columns=[\"Species\"])\n",
    "df = pd.concat([X,Y],axis=1)\n",
    "\n",
    "# .queryで行抽出、locで列抽出する。\n",
    "df_selected = df.query(\"Species == [1, 2]\")\n",
    "df_selected"
   ]
  },
  {
   "cell_type": "code",
   "execution_count": 5,
   "id": "aacce24e-9e62-4fe6-ad1b-aa74316ad781",
   "metadata": {},
   "outputs": [
    {
     "name": "stdout",
     "output_type": "stream",
     "text": [
      "X_train.shape : (80, 4), X_test.shape : (20, 4)\n"
     ]
    }
   ],
   "source": [
    "X_train, X_test, y_train, y_test = scratch_train_test_split(df_selected.iloc[:, :-1], df_selected.loc[:, \"Species\"], train_size=0.8)\n",
    "print(\"X_train.shape : {}, X_test.shape : {}\".format(X_train.shape, X_test.shape))"
   ]
  },
  {
   "cell_type": "code",
   "execution_count": 6,
   "id": "c7926f0d-d386-4e1a-9192-552bd484c671",
   "metadata": {},
   "outputs": [],
   "source": [
    "# 評価する関数を作成する\n",
    "def eval(y_true, y_pred):\n",
    "    \"\"\"\n",
    "    2値分類の評価指標を計算する\n",
    "    \"\"\"\n",
    "    acc = metrics.accuracy_score(y_true, y_pred)\n",
    "    precision = metrics.precision_score(y_true, y_pred)\n",
    "    recall = metrics.recall_score(y_true, y_pred)\n",
    "    f1 = metrics.f1_score(y_true, y_pred)\n",
    "    confusion = metrics.confusion_matrix(y_true, y_pred)\n",
    "    return acc, precision, recall, f1, confusion"
   ]
  },
  {
   "cell_type": "markdown",
   "id": "df4c3586-fbd7-443e-b153-3f92e69ff056",
   "metadata": {},
   "source": [
    "### ロジスティック回帰"
   ]
  },
  {
   "cell_type": "code",
   "execution_count": 7,
   "id": "65aebd19-1041-4e05-954a-e9a39e48d375",
   "metadata": {},
   "outputs": [
    {
     "name": "stdout",
     "output_type": "stream",
     "text": [
      "acc : 0.95\n",
      "precision : 1.0\n",
      "recall : 0.9090909090909091\n",
      "f1 : 0.9523809523809523\n",
      "confusion matrix \n",
      " [[10  1]\n",
      " [ 0  9]]\n"
     ]
    }
   ],
   "source": [
    "from sklearn.linear_model import SGDClassifier\n",
    "from sklearn.preprocessing import StandardScaler\n",
    "from sklearn.pipeline import make_pipeline\n",
    "from sklearn import metrics\n",
    "\n",
    "clf = make_pipeline(StandardScaler(),SGDClassifier(max_iter=1000, tol=1e-3,loss=\"log\"))\n",
    "\n",
    "# 学習する\n",
    "clf.fit(X_train,y_train)\n",
    "# 予測する\n",
    "y_pred_clf = clf.predict(X_test)\n",
    "\n",
    "print(\"acc : {}\\nprecision : {}\\nrecall : {}\\nf1 : {}\\nconfusion matrix \\n {}\".format(*eval(y_test, y_pred_clf)))\n",
    "\n"
   ]
  },
  {
   "cell_type": "markdown",
   "id": "26594baa-2c07-49e9-b3e7-8167d252e1cb",
   "metadata": {},
   "source": [
    "### SVM"
   ]
  },
  {
   "cell_type": "code",
   "execution_count": 8,
   "id": "4d61ae76-fc06-40dd-ad44-9202e5e2fe06",
   "metadata": {},
   "outputs": [
    {
     "name": "stdout",
     "output_type": "stream",
     "text": [
      "acc : 0.95\n",
      "precision : 1.0\n",
      "recall : 0.9090909090909091\n",
      "f1 : 0.9523809523809523\n",
      "confusion matrix \n",
      " [[10  1]\n",
      " [ 0  9]]\n"
     ]
    }
   ],
   "source": [
    "from sklearn.svm import SVC\n",
    "\n",
    "svc = make_pipeline(StandardScaler(), SVC(gamma='auto'))\n",
    "\n",
    "# 学習する\n",
    "svc.fit(X_train,y_train)\n",
    "# 予測する\n",
    "y_pred_svc = svc.predict(X_test)\n",
    "\n",
    "print(\"acc : {}\\nprecision : {}\\nrecall : {}\\nf1 : {}\\nconfusion matrix \\n {}\".format(*eval(y_test, y_pred_svc)))\n"
   ]
  },
  {
   "cell_type": "markdown",
   "id": "7a6c48ba-1e4f-447c-a2d6-1a5c2177c939",
   "metadata": {},
   "source": [
    "### 決定木"
   ]
  },
  {
   "cell_type": "code",
   "execution_count": 9,
   "id": "2dd464b0-6104-4358-8f3d-a06ae0a66ec6",
   "metadata": {},
   "outputs": [
    {
     "name": "stdout",
     "output_type": "stream",
     "text": [
      "acc : 0.9\n",
      "precision : 1.0\n",
      "recall : 0.8181818181818182\n",
      "f1 : 0.9\n",
      "confusion matrix \n",
      " [[9 2]\n",
      " [0 9]]\n"
     ]
    }
   ],
   "source": [
    "from sklearn.model_selection import cross_val_score\n",
    "from sklearn.tree import DecisionTreeClassifier\n",
    "\n",
    "tree = DecisionTreeClassifier(random_state=0)\n",
    "\n",
    "# 学習する\n",
    "tree.fit(X_train,y_train)\n",
    "# 予測する\n",
    "y_pred_tree = tree.predict(X_test)\n",
    "\n",
    "print(\"acc : {}\\nprecision : {}\\nrecall : {}\\nf1 : {}\\nconfusion matrix \\n {}\".format(*eval(y_test, y_pred_tree)))\n"
   ]
  },
  {
   "cell_type": "markdown",
   "id": "0e1c0183-144e-46ca-8528-7444d5a32252",
   "metadata": {},
   "source": [
    "## シンプルデータ１"
   ]
  },
  {
   "cell_type": "code",
   "execution_count": 10,
   "id": "6838b864-8e98-44a9-835a-9583a7ea746d",
   "metadata": {},
   "outputs": [],
   "source": [
    "np.random.seed(seed=0)\n",
    "n_samples = 500\n",
    "f0 = [-1, 2]\n",
    "f1 = [2, -1]\n",
    "cov = [[1.0,0.8], [0.8, 1.0]]\n",
    "f0 = np.random.multivariate_normal(f0, cov, n_samples // 2)\n",
    "f1 = np.random.multivariate_normal(f1, cov, n_samples // 2)\n",
    "X_1 = np.concatenate([f0, f1])\n",
    "y_1 = np.concatenate([\n",
    "    np.full(n_samples // 2, 1),\n",
    "    np.full(n_samples // 2, -1)\n",
    "])"
   ]
  },
  {
   "cell_type": "code",
   "execution_count": 11,
   "id": "4ec478c9-56a0-46dd-b77c-1190636c95cd",
   "metadata": {},
   "outputs": [
    {
     "name": "stdout",
     "output_type": "stream",
     "text": [
      "X_train_1.shape : (400, 2), X_test_1.shape : (100, 2)\n"
     ]
    }
   ],
   "source": [
    "X_train_1, X_test_1, y_train_1, y_test_1 = scratch_train_test_split(X_1,y_1,train_size=0.8)\n",
    "print(\"X_train_1.shape : {}, X_test_1.shape : {}\".format(X_train_1.shape, X_test_1.shape))"
   ]
  },
  {
   "cell_type": "markdown",
   "id": "a6d5147f-8411-4654-91a0-15247a375d10",
   "metadata": {},
   "source": [
    "### ロジスティック回帰"
   ]
  },
  {
   "cell_type": "code",
   "execution_count": 12,
   "id": "07060987-14ee-44fa-92f2-6a4a6f0c94f3",
   "metadata": {},
   "outputs": [
    {
     "name": "stdout",
     "output_type": "stream",
     "text": [
      "acc : 1.0\n",
      "precision : 1.0\n",
      "recall : 1.0\n",
      "f1 : 1.0\n",
      "confusion matrix \n",
      " [[42  0]\n",
      " [ 0 58]]\n"
     ]
    }
   ],
   "source": [
    "clf_1 = make_pipeline(StandardScaler(),SGDClassifier(max_iter=1000, tol=1e-3,loss=\"log\"))\n",
    "\n",
    "# 学習する\n",
    "clf_1.fit(X_train_1,y_train_1)\n",
    "# 予測する\n",
    "y_pred_clf_1 = clf_1.predict(X_test_1)\n",
    "\n",
    "print(\"acc : {}\\nprecision : {}\\nrecall : {}\\nf1 : {}\\nconfusion matrix \\n {}\".format(*eval(y_test_1, y_pred_clf_1)))\n"
   ]
  },
  {
   "cell_type": "markdown",
   "id": "ab2d89ea-cc38-46ac-a65a-0f72722f31b8",
   "metadata": {},
   "source": [
    "### SVM"
   ]
  },
  {
   "cell_type": "code",
   "execution_count": 13,
   "id": "1610b995-2b81-4489-b506-d61d96b29e4e",
   "metadata": {},
   "outputs": [
    {
     "name": "stdout",
     "output_type": "stream",
     "text": [
      "acc : 1.0\n",
      "precision : 1.0\n",
      "recall : 1.0\n",
      "f1 : 1.0\n",
      "confusion matrix \n",
      " [[42  0]\n",
      " [ 0 58]]\n"
     ]
    }
   ],
   "source": [
    "svc_1 = make_pipeline(StandardScaler(), SVC(gamma='auto'))\n",
    "\n",
    "# 学習する\n",
    "svc_1.fit(X_train_1,y_train_1)\n",
    "# 予測する\n",
    "y_pred_svc_1 = svc_1.predict(X_test_1)\n",
    "\n",
    "print(\"acc : {}\\nprecision : {}\\nrecall : {}\\nf1 : {}\\nconfusion matrix \\n {}\".format(*eval(y_test_1, y_pred_svc_1)))\n"
   ]
  },
  {
   "cell_type": "markdown",
   "id": "5afa16cb-9ff8-4a85-8fac-7a2e954754c3",
   "metadata": {},
   "source": [
    "### 決定木"
   ]
  },
  {
   "cell_type": "code",
   "execution_count": 14,
   "id": "c96d1b7e-8afc-43fa-8474-29699c5d0a35",
   "metadata": {},
   "outputs": [
    {
     "name": "stdout",
     "output_type": "stream",
     "text": [
      "acc : 1.0\n",
      "precision : 1.0\n",
      "recall : 1.0\n",
      "f1 : 1.0\n",
      "confusion matrix \n",
      " [[42  0]\n",
      " [ 0 58]]\n"
     ]
    }
   ],
   "source": [
    "tree_1 = DecisionTreeClassifier(random_state=0)\n",
    "\n",
    "# 学習する\n",
    "tree_1.fit(X_train_1,y_train_1)\n",
    "# 予測する\n",
    "y_pred_tree_1 = tree_1.predict(X_test_1)\n",
    "\n",
    "print(\"acc : {}\\nprecision : {}\\nrecall : {}\\nf1 : {}\\nconfusion matrix \\n {}\".format(*eval(y_test_1, y_pred_tree_1)))\n"
   ]
  },
  {
   "cell_type": "markdown",
   "id": "44000980-a7ff-4261-b74a-f47ad315ddf4",
   "metadata": {},
   "source": [
    "## シンプルデータ２"
   ]
  },
  {
   "cell_type": "code",
   "execution_count": 15,
   "id": "e7cf1fa8-ac59-4eba-8b1d-aa399cc6aaf0",
   "metadata": {},
   "outputs": [],
   "source": [
    "X_2 = np.array([\n",
    "    [-0.44699 , -2.8073  ],[-1.4621  , -2.4586  ],\n",
    "    [ 0.10645 ,  1.9242  ],[-3.5944  , -4.0112  ],\n",
    "    [-0.9888  ,  4.5718  ],[-3.1625  , -3.9606  ],\n",
    "    [ 0.56421 ,  0.72888 ],[-0.60216 ,  8.4636  ],\n",
    "    [-0.61251 , -0.75345 ],[-0.73535 , -2.2718  ],\n",
    "    [-0.80647 , -2.2135  ],[ 0.86291 ,  2.3946  ],\n",
    "    [-3.1108  ,  0.15394 ],[-2.9362  ,  2.5462  ],\n",
    "    [-0.57242 , -2.9915  ],[ 1.4771  ,  3.4896  ],\n",
    "    [ 0.58619 ,  0.37158 ],[ 0.6017  ,  4.3439  ],\n",
    "    [-2.1086  ,  8.3428  ],[-4.1013  , -4.353   ],\n",
    "    [-1.9948  , -1.3927  ],[ 0.35084 , -0.031994],\n",
    "    [ 0.96765 ,  7.8929  ],[-1.281   , 15.6824  ],\n",
    "    [ 0.96765 , 10.083   ],[ 1.3763  ,  1.3347  ],\n",
    "    [-2.234   , -2.5323  ],[-2.9452  , -1.8219  ],\n",
    "    [ 0.14654 , -0.28733 ],[ 0.5461  ,  5.8245  ],\n",
    "    [-0.65259 ,  9.3444  ],[ 0.59912 ,  5.3524  ],\n",
    "    [ 0.50214 , -0.31818 ],[-3.0603  , -3.6461  ],\n",
    "    [-6.6797  ,  0.67661 ],[-2.353   , -0.72261 ],\n",
    "    [ 1.1319  ,  2.4023  ],[-0.12243 ,  9.0162  ],\n",
    "    [-2.5677  , 13.1779  ],[ 0.057313,  5.4681  ],\n",
    "])\n",
    "y_2 = np.array([0, 0, 0, 0, 0, 0, 0, 0, 0, 0, 0, 0, 0, 0, 0, 0, 0, 0, 0, 0, 1, 1,\n",
    "       1, 1, 1, 1, 1, 1, 1, 1, 1, 1, 1, 1, 1, 1, 1, 1, 1, 1])"
   ]
  },
  {
   "cell_type": "code",
   "execution_count": 16,
   "id": "9b9506b2-adef-46b6-a218-a819bd140b9e",
   "metadata": {},
   "outputs": [
    {
     "name": "stdout",
     "output_type": "stream",
     "text": [
      "X_train_2.shape : (32, 2), X_test_2.shape : (8, 2)\n",
      "[0 1 0 0 1 0 1 0 1 0 0 1 0 0 0 1 1 1 1 1 1 0 0 0 1 1 1 1 1 1 0 0]\n",
      "[0 0 0 0 0 1 1 1]\n"
     ]
    }
   ],
   "source": [
    "X_train_2, X_test_2, y_train_2, y_test_2 = scratch_train_test_split(X_2,y_2,train_size=0.8)\n",
    "print(\"X_train_2.shape : {}, X_test_2.shape : {}\".format(X_train_2.shape, X_test_2.shape))\n",
    "print(y_train_2)\n",
    "print(y_test_2)"
   ]
  },
  {
   "cell_type": "markdown",
   "id": "b858e583-463e-47e7-ae6f-eef827b40f34",
   "metadata": {},
   "source": [
    "### ロジスティック回帰"
   ]
  },
  {
   "cell_type": "code",
   "execution_count": 17,
   "id": "14c279cc-ff9a-41e0-9324-77b7f25fc54f",
   "metadata": {},
   "outputs": [],
   "source": [
    "clf_2 = make_pipeline(StandardScaler(),SGDClassifier(max_iter=1000, tol=1e-3,loss=\"log\"))\n",
    "\n",
    "# 学習する\n",
    "clf_2.fit(X_train_2,y_train_2)\n",
    "# 予測する\n",
    "y_pred_clf_2 = clf_2.predict(X_test_2)\n",
    "\n",
    "acc = metrics.accuracy_score(y_test_2, y_pred_clf_2)\n",
    "precision = metrics.precision_score(y_test_2, y_pred_clf_2)\n",
    "recall = metrics.recall_score(y_test_2, y_pred_clf_2)\n",
    "f1 = metrics.f1_score(y_test_2, y_pred_clf_2)\n",
    "confusion = metrics.confusion_matrix(y_test_2, y_pred_clf_2)"
   ]
  },
  {
   "cell_type": "code",
   "execution_count": 18,
   "id": "2cdb3e72-0196-4d3d-bd2c-58190188a94a",
   "metadata": {},
   "outputs": [
    {
     "name": "stdout",
     "output_type": "stream",
     "text": [
      "acc : 0.375\n",
      "precision : 0.375\n",
      "recall : 1.0\n",
      "f1 : 0.5454545454545454\n",
      "confusion matrix \n",
      " [[0 5]\n",
      " [0 3]]\n"
     ]
    }
   ],
   "source": [
    "print(\"acc : {}\".format(acc))\n",
    "print(\"precision : {}\".format(precision))\n",
    "print(\"recall : {}\".format(recall))\n",
    "print(\"f1 : {}\".format(f1))\n",
    "print(\"confusion matrix \\n {}\".format(confusion))"
   ]
  },
  {
   "cell_type": "markdown",
   "id": "ffe3b554-50f4-4d5b-8fbc-408c5f57aaa7",
   "metadata": {},
   "source": [
    "### SVM"
   ]
  },
  {
   "cell_type": "code",
   "execution_count": 19,
   "id": "f48a68cb-193a-4564-a979-71a197eebecb",
   "metadata": {},
   "outputs": [
    {
     "name": "stdout",
     "output_type": "stream",
     "text": [
      "acc : 0.25\n",
      "precision : 0.2\n",
      "recall : 0.3333333333333333\n",
      "f1 : 0.25\n",
      "confusion matrix \n",
      " [[1 4]\n",
      " [2 1]]\n"
     ]
    }
   ],
   "source": [
    "svc_2 = make_pipeline(StandardScaler(), SVC(gamma='auto'))\n",
    "\n",
    "# 学習する\n",
    "svc_2.fit(X_train_2,y_train_2)\n",
    "# 予測する\n",
    "y_pred_svc_2 = svc_2.predict(X_test_2)\n",
    "\n",
    "print(\"acc : {}\\nprecision : {}\\nrecall : {}\\nf1 : {}\\nconfusion matrix \\n {}\".format(*eval(y_test_2, y_pred_svc_2)))\n"
   ]
  },
  {
   "cell_type": "markdown",
   "id": "c1eb547f-3ba6-4fbf-bd23-429d86240b51",
   "metadata": {},
   "source": [
    "### 決定木"
   ]
  },
  {
   "cell_type": "code",
   "execution_count": 20,
   "id": "351a55f8-6eb8-4302-8251-6727c9463987",
   "metadata": {},
   "outputs": [
    {
     "name": "stdout",
     "output_type": "stream",
     "text": [
      "acc : 0.375\n",
      "precision : 0.25\n",
      "recall : 0.3333333333333333\n",
      "f1 : 0.28571428571428575\n",
      "confusion matrix \n",
      " [[2 3]\n",
      " [2 1]]\n"
     ]
    }
   ],
   "source": [
    "tree_2 = DecisionTreeClassifier(random_state=0)\n",
    "\n",
    "# 学習する\n",
    "tree_2.fit(X_train_2,y_train_2)\n",
    "# 予測する\n",
    "y_pred_tree_2 = tree_2.predict(X_test_2)\n",
    "\n",
    "print(\"acc : {}\\nprecision : {}\\nrecall : {}\\nf1 : {}\\nconfusion matrix \\n {}\".format(*eval(y_test_2, y_pred_tree_2)))\n"
   ]
  },
  {
   "cell_type": "markdown",
   "id": "93adbdfa-726a-4bdd-8465-1ec250bae17c",
   "metadata": {},
   "source": [
    "# 【問題3】 回帰問題を解くコードの作成"
   ]
  },
  {
   "cell_type": "markdown",
   "id": "562ce316-8c20-4101-8897-0ad55c10a795",
   "metadata": {},
   "source": [
    "## 線形回帰でHouse Pricesデータセットを学習・推定"
   ]
  },
  {
   "cell_type": "code",
   "execution_count": 21,
   "id": "c9a64cee-d0ae-4002-bbe4-c2116177e5d1",
   "metadata": {},
   "outputs": [],
   "source": [
    "#モジュールをインポート」\n",
    "from sklearn.linear_model import SGDRegressor\n",
    "\n",
    "csv_path = \"train.csv\" # ファイル名（パス）を指定する\n",
    "\n",
    "'''学習用データの読み込み'''\n",
    "df = pd.read_csv(\"train_1.csv\")\n",
    "#print(df)\n",
    "\n",
    "# 目的変数\n",
    "y_3 = df.loc[:,[\"SalePrice\"]]\n",
    "\n",
    "#説明変数\n",
    "X_3 = df.loc[:,[\"GrLivArea\",\"YearBuilt\"]]\n",
    "X_1 = df.loc[:,[\"GrLivArea\"]]\n",
    "X_2 = df.loc[:,[\"YearBuilt\"]]"
   ]
  },
  {
   "cell_type": "code",
   "execution_count": 22,
   "id": "481aeb2a-32c4-4728-ad89-264367ed1321",
   "metadata": {},
   "outputs": [
    {
     "name": "stdout",
     "output_type": "stream",
     "text": [
      "X_train_3.shape : (1168, 2), X_test_3.shape : (292, 2)\n"
     ]
    }
   ],
   "source": [
    "X_train_3, X_test_3, y_train_3, y_test_3 = scratch_train_test_split(X_3,y_3,train_size=0.8)\n",
    "print(\"X_train_3.shape : {}, X_test_3.shape : {}\".format(X_train_3.shape, X_test_3.shape))\n",
    "# print(y_train_3)\n",
    "# print(y_test_3)"
   ]
  },
  {
   "cell_type": "code",
   "execution_count": 23,
   "id": "5b900056-0bb3-4d8d-96e5-9d7512bffc42",
   "metadata": {},
   "outputs": [
    {
     "name": "stdout",
     "output_type": "stream",
     "text": [
      "MSE値 :  2369512602.556\n",
      "RMSE値 :  48677.640\n"
     ]
    }
   ],
   "source": [
    "reg = make_pipeline(StandardScaler(),SGDRegressor(max_iter=1000, tol=1e-3))\n",
    "\n",
    "# 学習する\n",
    "reg.fit(X_train_3,y_train_3)\n",
    "# 予測する\n",
    "y_pred_reg = reg.predict(X_test_3)\n",
    "\n",
    "from sklearn.metrics import mean_squared_error\n",
    "from sklearn.metrics import mean_absolute_error\n",
    "\n",
    "'''予測結果の確認'''\n",
    "#決定係数を表示\n",
    "print(\"MSE値 : % 0.3f\" % mean_squared_error(y_test_3, y_pred_reg))\n",
    "print(\"RMSE値 : % 0.3f\" % mean_squared_error(y_test_3, y_pred_reg, squared=False))\n",
    "\n"
   ]
  }
 ],
 "metadata": {
  "kernelspec": {
   "display_name": "Python 3",
   "language": "python",
   "name": "python3"
  },
  "language_info": {
   "codemirror_mode": {
    "name": "ipython",
    "version": 3
   },
   "file_extension": ".py",
   "mimetype": "text/x-python",
   "name": "python",
   "nbconvert_exporter": "python",
   "pygments_lexer": "ipython3",
   "version": "3.8.8"
  }
 },
 "nbformat": 4,
 "nbformat_minor": 5
}
